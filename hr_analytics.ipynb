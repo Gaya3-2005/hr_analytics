{
  "nbformat": 4,
  "nbformat_minor": 0,
  "metadata": {
    "colab": {
      "provenance": []
    },
    "kernelspec": {
      "name": "python3",
      "display_name": "Python 3"
    },
    "language_info": {
      "name": "python"
    }
  },
  "cells": [
    {
      "cell_type": "code",
      "execution_count": 1,
      "metadata": {
        "colab": {
          "base_uri": "https://localhost:8080/"
        },
        "id": "zP--o-O359FY",
        "outputId": "97e0d0aa-10f7-45fa-f065-f6b24c48474a"
      },
      "outputs": [
        {
          "output_type": "stream",
          "name": "stdout",
          "text": [
            "<class 'pandas.core.frame.DataFrame'>\n",
            "RangeIndex: 1470 entries, 0 to 1469\n",
            "Data columns (total 35 columns):\n",
            " #   Column                    Non-Null Count  Dtype \n",
            "---  ------                    --------------  ----- \n",
            " 0   Age                       1470 non-null   int64 \n",
            " 1   Attrition                 1470 non-null   object\n",
            " 2   BusinessTravel            1470 non-null   object\n",
            " 3   DailyRate                 1470 non-null   int64 \n",
            " 4   Department                1470 non-null   object\n",
            " 5   DistanceFromHome          1470 non-null   int64 \n",
            " 6   Education                 1470 non-null   int64 \n",
            " 7   EducationField            1470 non-null   object\n",
            " 8   EmployeeCount             1470 non-null   int64 \n",
            " 9   EmployeeNumber            1470 non-null   int64 \n",
            " 10  EnvironmentSatisfaction   1470 non-null   int64 \n",
            " 11  Gender                    1470 non-null   object\n",
            " 12  HourlyRate                1470 non-null   int64 \n",
            " 13  JobInvolvement            1470 non-null   int64 \n",
            " 14  JobLevel                  1470 non-null   int64 \n",
            " 15  JobRole                   1470 non-null   object\n",
            " 16  JobSatisfaction           1470 non-null   int64 \n",
            " 17  MaritalStatus             1470 non-null   object\n",
            " 18  MonthlyIncome             1470 non-null   int64 \n",
            " 19  MonthlyRate               1470 non-null   int64 \n",
            " 20  NumCompaniesWorked        1470 non-null   int64 \n",
            " 21  Over18                    1470 non-null   object\n",
            " 22  OverTime                  1470 non-null   object\n",
            " 23  PercentSalaryHike         1470 non-null   int64 \n",
            " 24  PerformanceRating         1470 non-null   int64 \n",
            " 25  RelationshipSatisfaction  1470 non-null   int64 \n",
            " 26  StandardHours             1470 non-null   int64 \n",
            " 27  StockOptionLevel          1470 non-null   int64 \n",
            " 28  TotalWorkingYears         1470 non-null   int64 \n",
            " 29  TrainingTimesLastYear     1470 non-null   int64 \n",
            " 30  WorkLifeBalance           1470 non-null   int64 \n",
            " 31  YearsAtCompany            1470 non-null   int64 \n",
            " 32  YearsInCurrentRole        1470 non-null   int64 \n",
            " 33  YearsSinceLastPromotion   1470 non-null   int64 \n",
            " 34  YearsWithCurrManager      1470 non-null   int64 \n",
            "dtypes: int64(26), object(9)\n",
            "memory usage: 402.1+ KB\n"
          ]
        }
      ],
      "source": [
        "import pandas as pd\n",
        "df = pd.read_csv(\"hr_data.csv\")\n",
        "df.head()\n",
        "df.shape\n",
        "df.info()"
      ]
    },
    {
      "cell_type": "code",
      "source": [
        "print(df.columns)"
      ],
      "metadata": {
        "colab": {
          "base_uri": "https://localhost:8080/"
        },
        "id": "aEme2GVR8wdj",
        "outputId": "f55b2fe1-7f75-439f-b006-fe0bc773b3a8"
      },
      "execution_count": 2,
      "outputs": [
        {
          "output_type": "stream",
          "name": "stdout",
          "text": [
            "Index(['Age', 'Attrition', 'BusinessTravel', 'DailyRate', 'Department',\n",
            "       'DistanceFromHome', 'Education', 'EducationField', 'EmployeeCount',\n",
            "       'EmployeeNumber', 'EnvironmentSatisfaction', 'Gender', 'HourlyRate',\n",
            "       'JobInvolvement', 'JobLevel', 'JobRole', 'JobSatisfaction',\n",
            "       'MaritalStatus', 'MonthlyIncome', 'MonthlyRate', 'NumCompaniesWorked',\n",
            "       'Over18', 'OverTime', 'PercentSalaryHike', 'PerformanceRating',\n",
            "       'RelationshipSatisfaction', 'StandardHours', 'StockOptionLevel',\n",
            "       'TotalWorkingYears', 'TrainingTimesLastYear', 'WorkLifeBalance',\n",
            "       'YearsAtCompany', 'YearsInCurrentRole', 'YearsSinceLastPromotion',\n",
            "       'YearsWithCurrManager'],\n",
            "      dtype='object')\n"
          ]
        }
      ]
    },
    {
      "cell_type": "code",
      "source": [
        "df.columns = df.columns.str.strip().str.lower().str.replace(\" \", \"_\") # Clean column names"
      ],
      "metadata": {
        "id": "TEpW1S0u818z"
      },
      "execution_count": 3,
      "outputs": []
    },
    {
      "cell_type": "code",
      "source": [
        "print(df.isnull().sum()) #missing values"
      ],
      "metadata": {
        "collapsed": true,
        "colab": {
          "base_uri": "https://localhost:8080/"
        },
        "id": "ILx8QpD99AWb",
        "outputId": "5f5ffc31-c3ea-4232-abec-6e431ad177d1"
      },
      "execution_count": 4,
      "outputs": [
        {
          "output_type": "stream",
          "name": "stdout",
          "text": [
            "age                         0\n",
            "attrition                   0\n",
            "businesstravel              0\n",
            "dailyrate                   0\n",
            "department                  0\n",
            "distancefromhome            0\n",
            "education                   0\n",
            "educationfield              0\n",
            "employeecount               0\n",
            "employeenumber              0\n",
            "environmentsatisfaction     0\n",
            "gender                      0\n",
            "hourlyrate                  0\n",
            "jobinvolvement              0\n",
            "joblevel                    0\n",
            "jobrole                     0\n",
            "jobsatisfaction             0\n",
            "maritalstatus               0\n",
            "monthlyincome               0\n",
            "monthlyrate                 0\n",
            "numcompaniesworked          0\n",
            "over18                      0\n",
            "overtime                    0\n",
            "percentsalaryhike           0\n",
            "performancerating           0\n",
            "relationshipsatisfaction    0\n",
            "standardhours               0\n",
            "stockoptionlevel            0\n",
            "totalworkingyears           0\n",
            "trainingtimeslastyear       0\n",
            "worklifebalance             0\n",
            "yearsatcompany              0\n",
            "yearsincurrentrole          0\n",
            "yearssincelastpromotion     0\n",
            "yearswithcurrmanager        0\n",
            "dtype: int64\n"
          ]
        }
      ]
    },
    {
      "cell_type": "code",
      "source": [
        "df.drop_duplicates(inplace=True) # Remove duplicates"
      ],
      "metadata": {
        "id": "2zqMiObN9JT_"
      },
      "execution_count": 5,
      "outputs": []
    },
    {
      "cell_type": "code",
      "source": [
        "df['attrition_flag'] = df['attrition'].apply(lambda x: 1 if str(x).strip().lower() == \"yes\" else 0) # feature enginnering"
      ],
      "metadata": {
        "id": "uTDvaPnP9R2F"
      },
      "execution_count": 6,
      "outputs": []
    },
    {
      "cell_type": "code",
      "source": [
        "def service_bucket(x):\n",
        "    if x < 3: return \"0-2 yrs\"\n",
        "    elif x < 6: return \"3-5 yrs\"\n",
        "    elif x < 11: return \"6-10 yrs\"\n",
        "    else: return \"10+ yrs\"\n",
        "df['service_bucket'] = df['yearsatcompany'].apply(service_bucket)"
      ],
      "metadata": {
        "id": "zwMeYPMQ9cRk"
      },
      "execution_count": 7,
      "outputs": []
    },
    {
      "cell_type": "code",
      "source": [
        "def income_bucket(x):\n",
        "    if x < 3000: return \"Low\"\n",
        "    elif x < 7000: return \"Medium\"\n",
        "    else: return \"High\"\n",
        "df['income_bucket'] = df['monthlyincome'].apply(income_bucket)"
      ],
      "metadata": {
        "id": "2SGUGY_J9fj8"
      },
      "execution_count": 8,
      "outputs": []
    },
    {
      "cell_type": "code",
      "source": [
        "print(df.describe())"
      ],
      "metadata": {
        "colab": {
          "base_uri": "https://localhost:8080/"
        },
        "collapsed": true,
        "id": "W-6DfknM9kfQ",
        "outputId": "1de2e7e0-b61d-43b6-b60a-6f242b2cbf0f"
      },
      "execution_count": 9,
      "outputs": [
        {
          "output_type": "stream",
          "name": "stdout",
          "text": [
            "               age    dailyrate  distancefromhome    education  employeecount  \\\n",
            "count  1470.000000  1470.000000       1470.000000  1470.000000         1470.0   \n",
            "mean     36.923810   802.485714          9.192517     2.912925            1.0   \n",
            "std       9.135373   403.509100          8.106864     1.024165            0.0   \n",
            "min      18.000000   102.000000          1.000000     1.000000            1.0   \n",
            "25%      30.000000   465.000000          2.000000     2.000000            1.0   \n",
            "50%      36.000000   802.000000          7.000000     3.000000            1.0   \n",
            "75%      43.000000  1157.000000         14.000000     4.000000            1.0   \n",
            "max      60.000000  1499.000000         29.000000     5.000000            1.0   \n",
            "\n",
            "       employeenumber  environmentsatisfaction   hourlyrate  jobinvolvement  \\\n",
            "count     1470.000000              1470.000000  1470.000000     1470.000000   \n",
            "mean      1024.865306                 2.721769    65.891156        2.729932   \n",
            "std        602.024335                 1.093082    20.329428        0.711561   \n",
            "min          1.000000                 1.000000    30.000000        1.000000   \n",
            "25%        491.250000                 2.000000    48.000000        2.000000   \n",
            "50%       1020.500000                 3.000000    66.000000        3.000000   \n",
            "75%       1555.750000                 4.000000    83.750000        3.000000   \n",
            "max       2068.000000                 4.000000   100.000000        4.000000   \n",
            "\n",
            "          joblevel  ...  standardhours  stockoptionlevel  totalworkingyears  \\\n",
            "count  1470.000000  ...         1470.0       1470.000000        1470.000000   \n",
            "mean      2.063946  ...           80.0          0.793878          11.279592   \n",
            "std       1.106940  ...            0.0          0.852077           7.780782   \n",
            "min       1.000000  ...           80.0          0.000000           0.000000   \n",
            "25%       1.000000  ...           80.0          0.000000           6.000000   \n",
            "50%       2.000000  ...           80.0          1.000000          10.000000   \n",
            "75%       3.000000  ...           80.0          1.000000          15.000000   \n",
            "max       5.000000  ...           80.0          3.000000          40.000000   \n",
            "\n",
            "       trainingtimeslastyear  worklifebalance  yearsatcompany  \\\n",
            "count            1470.000000      1470.000000     1470.000000   \n",
            "mean                2.799320         2.761224        7.008163   \n",
            "std                 1.289271         0.706476        6.126525   \n",
            "min                 0.000000         1.000000        0.000000   \n",
            "25%                 2.000000         2.000000        3.000000   \n",
            "50%                 3.000000         3.000000        5.000000   \n",
            "75%                 3.000000         3.000000        9.000000   \n",
            "max                 6.000000         4.000000       40.000000   \n",
            "\n",
            "       yearsincurrentrole  yearssincelastpromotion  yearswithcurrmanager  \\\n",
            "count         1470.000000              1470.000000           1470.000000   \n",
            "mean             4.229252                 2.187755              4.123129   \n",
            "std              3.623137                 3.222430              3.568136   \n",
            "min              0.000000                 0.000000              0.000000   \n",
            "25%              2.000000                 0.000000              2.000000   \n",
            "50%              3.000000                 1.000000              3.000000   \n",
            "75%              7.000000                 3.000000              7.000000   \n",
            "max             18.000000                15.000000             17.000000   \n",
            "\n",
            "       attrition_flag  \n",
            "count     1470.000000  \n",
            "mean         0.161224  \n",
            "std          0.367863  \n",
            "min          0.000000  \n",
            "25%          0.000000  \n",
            "50%          0.000000  \n",
            "75%          0.000000  \n",
            "max          1.000000  \n",
            "\n",
            "[8 rows x 27 columns]\n"
          ]
        }
      ]
    },
    {
      "cell_type": "code",
      "source": [
        "import matplotlib.pyplot as plt\n",
        "import seaborn as sns"
      ],
      "metadata": {
        "id": "N0xmbZUy9wPf"
      },
      "execution_count": 10,
      "outputs": []
    },
    {
      "cell_type": "code",
      "source": [
        "plt.figure(figsize=(6,4))\n",
        "sns.countplot(data=df, x='attrition', palette='Set2')\n",
        "plt.title(\"Attrition Count\")\n",
        "plt.show()"
      ],
      "metadata": {
        "colab": {
          "base_uri": "https://localhost:8080/",
          "height": 497
        },
        "id": "SVgObuue9suj",
        "outputId": "cbf0acc7-fb51-4b94-981c-63a5e9e47de2"
      },
      "execution_count": 11,
      "outputs": [
        {
          "output_type": "stream",
          "name": "stderr",
          "text": [
            "/tmp/ipython-input-3530706479.py:2: FutureWarning: \n",
            "\n",
            "Passing `palette` without assigning `hue` is deprecated and will be removed in v0.14.0. Assign the `x` variable to `hue` and set `legend=False` for the same effect.\n",
            "\n",
            "  sns.countplot(data=df, x='attrition', palette='Set2')\n"
          ]
        },
        {
          "output_type": "display_data",
          "data": {
            "text/plain": [
              "<Figure size 600x400 with 1 Axes>"
            ],
            "image/png": "[encoded data removed]"
          },
          "metadata": {}
        }
      ]
    },
    {
      "cell_type": "code",
      "source": [
        "plt.figure(figsize=(8,4))\n",
        "sns.countplot(data=df, x='department', hue='attrition', palette='Set1')\n",
        "plt.title(\"Attrition by Department\")\n",
        "plt.show()"
      ],
      "metadata": {
        "colab": {
          "base_uri": "https://localhost:8080/",
          "height": 410
        },
        "id": "9-ag9qgH9vYb",
        "outputId": "7451cd06-3b79-4a71-d777-0025181babfc"
      },
      "execution_count": 12,
      "outputs": [
        {
          "output_type": "display_data",
          "data": {
            "text/plain": [
              "<Figure size 800x400 with 1 Axes>"
            ],
            "image/png": "[encoded data removed]"
          },
          "metadata": {}
        }
      ]
    },
    {
      "cell_type": "code",
      "source": [
        "plt.figure(figsize=(8,4))\n",
        "sns.histplot(data=df, x='age', hue='attrition', multiple=\"stack\", palette='coolwarm', bins=20)\n",
        "plt.title(\"Age Distribution by Attrition\")\n",
        "plt.show()"
      ],
      "metadata": {
        "colab": {
          "base_uri": "https://localhost:8080/",
          "height": 410
        },
        "id": "O-1NIUCx9-IK",
        "outputId": "9d74b985-a76d-4922-a44e-98be493d7639"
      },
      "execution_count": 13,
      "outputs": [
        {
          "output_type": "display_data",
          "data": {
            "text/plain": [
              "<Figure size 800x400 with 1 Axes>"
            ],
            "image/png": "[encoded data removed]"
          },
          "metadata": {}
        }
      ]
    },
    {
      "cell_type": "code",
      "source": [
        "plt.figure(figsize=(8,4))\n",
        "sns.boxplot(data=df, x='attrition', y='monthlyincome', palette='muted')\n",
        "plt.title(\"Monthly Income vs Attrition\")\n",
        "plt.show()"
      ],
      "metadata": {
        "colab": {
          "base_uri": "https://localhost:8080/",
          "height": 497
        },
        "id": "VwjtCon3-C7w",
        "outputId": "de0969f7-59bc-444b-e192-b623a71b4239"
      },
      "execution_count": 14,
      "outputs": [
        {
          "output_type": "stream",
          "name": "stderr",
          "text": [
            "/tmp/ipython-input-4053551217.py:2: FutureWarning: \n",
            "\n",
            "Passing `palette` without assigning `hue` is deprecated and will be removed in v0.14.0. Assign the `x` variable to `hue` and set `legend=False` for the same effect.\n",
            "\n",
            "  sns.boxplot(data=df, x='attrition', y='monthlyincome', palette='muted')\n"
          ]
        },
        {
          "output_type": "display_data",
          "data": {
            "text/plain": [
              "<Figure size 800x400 with 1 Axes>"
            ],
            "image/png": "[encoded data removed]"
          },
          "metadata": {}
        }
      ]
    },
    {
      "cell_type": "code",
      "source": [
        "headcount = df.shape[0]\n",
        "total_attrition = df['attrition_flag'].sum()\n",
        "attrition_rate = round((total_attrition / headcount) * 100, 2)\n",
        "avg_age = round(df['age'].mean(), 1)\n",
        "avg_income = round(df['monthlyincome'].mean(), 2)\n",
        "avg_tenure = round(df['yearsatcompany'].mean(), 1)\n",
        "\n",
        "gender_counts = df['gender'].value_counts()\n",
        "gender_ratio = f\"{gender_counts.get('Male',0)} : {gender_counts.get('Female',0)}\"\n",
        "\n",
        "print(\" OVERALL KPIs\")\n",
        "print(f\"Headcount: {headcount}\")\n",
        "print(f\"Total Attrition: {total_attrition}\")\n",
        "print(f\"Attrition Rate: {attrition_rate}%\")\n",
        "print(f\"Average Age: {avg_age}\")\n",
        "print(f\"Average Monthly Income: {avg_income}\")\n",
        "print(f\"Average Tenure (yrs): {avg_tenure}\")\n",
        "print(f\"Gender Ratio (M:F): {gender_ratio}\")"
      ],
      "metadata": {
        "colab": {
          "base_uri": "https://localhost:8080/"
        },
        "id": "uEEnYq9R-VPS",
        "outputId": "838bd030-dc76-4c59-bdc1-29d44f00824f"
      },
      "execution_count": 15,
      "outputs": [
        {
          "output_type": "stream",
          "name": "stdout",
          "text": [
            " OVERALL KPIs\n",
            "Headcount: 1470\n",
            "Total Attrition: 237\n",
            "Attrition Rate: 16.12%\n",
            "Average Age: 36.9\n",
            "Average Monthly Income: 6502.93\n",
            "Average Tenure (yrs): 7.0\n",
            "Gender Ratio (M:F): 882 : 588\n"
          ]
        }
      ]
    },
    {
      "cell_type": "code",
      "source": [
        "dept_summary = df.groupby('department').agg(\n",
        "    headcount=('employeenumber', 'count'),\n",
        "    attrition_count=('attrition_flag', 'sum'),\n",
        "    avg_income=('monthlyincome', 'mean'))\n",
        "\n",
        "dept_summary['attrition_rate_%'] = round((dept_summary['attrition_count'] / dept_summary['headcount']) * 100, 2)\n",
        "dept_summary['avg_income'] = dept_summary['avg_income'].round(2)\n",
        "print(\"\\n Department-wise Summary:\\n\", dept_summary)"
      ],
      "metadata": {
        "colab": {
          "base_uri": "https://localhost:8080/"
        },
        "id": "MA4URvaQ-Y9Z",
        "outputId": "eb3ad99e-c9d1-42a0-89c3-eb277987d172"
      },
      "execution_count": 16,
      "outputs": [
        {
          "output_type": "stream",
          "name": "stdout",
          "text": [
            "\n",
            " Department-wise Summary:\n",
            "                         headcount  attrition_count  avg_income  \\\n",
            "department                                                       \n",
            "Human Resources                63               12     6654.51   \n",
            "Research & Development        961              133     6281.25   \n",
            "Sales                         446               92     6959.17   \n",
            "\n",
            "                        attrition_rate_%  \n",
            "department                                \n",
            "Human Resources                    19.05  \n",
            "Research & Development             13.84  \n",
            "Sales                              20.63  \n"
          ]
        }
      ]
    },
    {
      "cell_type": "code",
      "source": [
        "service_summary = df['service_bucket'].value_counts().reset_index()\n",
        "service_summary.columns = ['service_bucket', 'count']\n",
        "print(\"\\n Service Bucket Distribution:\\n\", service_summary)"
      ],
      "metadata": {
        "colab": {
          "base_uri": "https://localhost:8080/"
        },
        "id": "G7gxNA40-liu",
        "outputId": "d5563c50-974e-41ef-b4b9-ac694b8e4706"
      },
      "execution_count": 17,
      "outputs": [
        {
          "output_type": "stream",
          "name": "stdout",
          "text": [
            "\n",
            " Service Bucket Distribution:\n",
            "   service_bucket  count\n",
            "0       6-10 yrs    448\n",
            "1        3-5 yrs    434\n",
            "2        0-2 yrs    342\n",
            "3        10+ yrs    246\n"
          ]
        }
      ]
    },
    {
      "cell_type": "code",
      "source": [
        "income_summary = df['income_bucket'].value_counts().reset_index()\n",
        "income_summary.columns = ['income_bucket', 'count']\n",
        "print(\"\\n Income Bucket Distribution:\\n\", income_summary)"
      ],
      "metadata": {
        "colab": {
          "base_uri": "https://localhost:8080/"
        },
        "id": "2IGbf5Ld-zRl",
        "outputId": "c4247f70-4ea8-480c-8474-12778dc9a797"
      },
      "execution_count": 18,
      "outputs": [
        {
          "output_type": "stream",
          "name": "stdout",
          "text": [
            "\n",
            " Income Bucket Distribution:\n",
            "   income_bucket  count\n",
            "0        Medium    640\n",
            "1          High    435\n",
            "2           Low    395\n"
          ]
        }
      ]
    },
    {
      "cell_type": "code",
      "source": [
        "dept_summary.to_csv(\"dept_kpis.csv\")\n",
        "service_summary.to_csv(\"service_bucket_summary.csv\")\n",
        "income_summary.to_csv(\"income_bucket_summary.csv\")\n",
        "\n",
        "print(\"\\n KPI summary files saved: 'dept_kpis.csv', 'service_bucket_summary.csv', 'income_bucket_summary.csv'\")"
      ],
      "metadata": {
        "colab": {
          "base_uri": "https://localhost:8080/"
        },
        "id": "oxsrkHCK-4SG",
        "outputId": "95aca797-58ae-437c-dafb-62b0175ccad9"
      },
      "execution_count": 19,
      "outputs": [
        {
          "output_type": "stream",
          "name": "stdout",
          "text": [
            "\n",
            " KPI summary files saved: 'dept_kpis.csv', 'service_bucket_summary.csv', 'income_bucket_summary.csv'\n"
          ]
        }
      ]
    }
  ]
}